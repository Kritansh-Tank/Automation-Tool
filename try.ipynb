{
 "cells": [
  {
   "cell_type": "code",
   "execution_count": 2,
   "metadata": {},
   "outputs": [
    {
     "name": "stderr",
     "output_type": "stream",
     "text": [
      "C:\\Users\\tankk\\AppData\\Local\\Temp\\ipykernel_22628\\1979625542.py:26: RuntimeWarning: coroutine 'sleep' was never awaited\n",
      "  sleep(90)\n",
      "RuntimeWarning: Enable tracemalloc to get the object allocation traceback\n",
      "C:\\Users\\tankk\\AppData\\Local\\Temp\\ipykernel_22628\\1979625542.py:30: RuntimeWarning: coroutine 'sleep' was never awaited\n",
      "  sleep(1)\n",
      "RuntimeWarning: Enable tracemalloc to get the object allocation traceback\n",
      "C:\\Users\\tankk\\AppData\\Local\\Temp\\ipykernel_22628\\1979625542.py:33: RuntimeWarning: coroutine 'sleep' was never awaited\n",
      "  sleep(1)\n",
      "RuntimeWarning: Enable tracemalloc to get the object allocation traceback\n"
     ]
    }
   ],
   "source": [
    "from asyncio import sleep\n",
    "from selenium import webdriver\n",
    "from selenium.webdriver.chrome.options import Options\n",
    "from selenium.webdriver.chrome.service import Service\n",
    "from selenium.webdriver.support.ui import WebDriverWait\n",
    "from selenium.webdriver.support import expected_conditions as Ec\n",
    "from selenium.webdriver.common.by import By\n",
    "from webdriver_manager.chrome import ChromeDriverManager\n",
    "import os\n",
    "\n",
    "USERNAME = \"\"\n",
    "PASSWORD = \"\"\n",
    "\n",
    "url = 'https://www.instagram.com/'\n",
    "chrome_options = Options()\n",
    "chrome_options.add_experimental_option(\"detach\", True)\n",
    "driver = webdriver.Chrome(service=Service(ChromeDriverManager().install()),options=chrome_options)\n",
    "driver.get(url)\n",
    "driver.maximize_window()\n",
    "\n",
    "sleep(90)\n",
    "\n",
    "username_field = WebDriverWait(driver,10).until(Ec.presence_of_element_located((By.NAME,'username')))\n",
    "username_field.send_keys(USERNAME)\n",
    "sleep(1)\n",
    "password_field = WebDriverWait(driver,10).until(Ec.presence_of_element_located((By.NAME,'password')))\n",
    "password_field.send_keys(PASSWORD)\n",
    "sleep(1)\n",
    "login_button = WebDriverWait(driver,10).until(Ec.presence_of_element_located((By.XPATH,'//*[@id=\"loginForm\"]/div/div[3]/button')))\n",
    "login_button.click()\n"
   ]
  },
  {
   "cell_type": "code",
   "execution_count": null,
   "metadata": {},
   "outputs": [],
   "source": []
  }
 ],
 "metadata": {
  "kernelspec": {
   "display_name": ".venv",
   "language": "python",
   "name": "python3"
  },
  "language_info": {
   "codemirror_mode": {
    "name": "ipython",
    "version": 3
   },
   "file_extension": ".py",
   "mimetype": "text/x-python",
   "name": "python",
   "nbconvert_exporter": "python",
   "pygments_lexer": "ipython3",
   "version": "3.11.4"
  },
  "orig_nbformat": 4
 },
 "nbformat": 4,
 "nbformat_minor": 2
}
